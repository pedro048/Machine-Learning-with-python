{
  "nbformat": 4,
  "nbformat_minor": 0,
  "metadata": {
    "colab": {
      "name": "Projeto.ipynb",
      "provenance": [],
      "collapsed_sections": [],
      "include_colab_link": true
    },
    "kernelspec": {
      "name": "python3",
      "display_name": "Python 3"
    }
  },
  "cells": [
    {
      "cell_type": "markdown",
      "metadata": {
        "id": "view-in-github",
        "colab_type": "text"
      },
      "source": [
        "<a href=\"https://colab.research.google.com/github/pedro048/Machine-Learning-with-python/blob/master/Projeto%20-%20Regress%C3%A3o%20Linear%20-%20KNN.ipynb\" target=\"_parent\"><img src=\"https://colab.research.google.com/assets/colab-badge.svg\" alt=\"Open In Colab\"/></a>"
      ]
    },
    {
      "cell_type": "code",
      "metadata": {
        "id": "JTVjUibOaY3n",
        "colab_type": "code",
        "colab": {}
      },
      "source": [
        "import matplotlib.pyplot as plt\n",
        "import numpy as np\n",
        "import pandas as pd\n",
        "#from sklearn import datasets\n",
        "from sklearn.linear_model import LinearRegression\n",
        "from sklearn.model_selection import train_test_split\n",
        "from matplotlib.colors import ListedColormap\n",
        "from sklearn import neighbors\n",
        "import seaborn as sns\n",
        "from sklearn.metrics import accuracy_score\n",
        "\n",
        "wine = pd.read_csv('/content/winequality-red.csv')"
      ],
      "execution_count": 0,
      "outputs": []
    },
    {
      "cell_type": "markdown",
      "metadata": {
        "id": "Aetu44yUCqte",
        "colab_type": "text"
      },
      "source": [
        "# **Aprendizado supervisionado - Regressão​ Linear**\n",
        "# Previsão da qualidade de novos vinhos"
      ]
    },
    {
      "cell_type": "code",
      "metadata": {
        "id": "RBM1fIssbB1Y",
        "colab_type": "code",
        "outputId": "80b68a68-a857-4efd-aebe-71a2556e5a5f",
        "colab": {
          "base_uri": "https://localhost:8080/",
          "height": 206
        }
      },
      "source": [
        "wine.head()"
      ],
      "execution_count": 0,
      "outputs": [
        {
          "output_type": "execute_result",
          "data": {
            "text/html": [
              "<div>\n",
              "<style scoped>\n",
              "    .dataframe tbody tr th:only-of-type {\n",
              "        vertical-align: middle;\n",
              "    }\n",
              "\n",
              "    .dataframe tbody tr th {\n",
              "        vertical-align: top;\n",
              "    }\n",
              "\n",
              "    .dataframe thead th {\n",
              "        text-align: right;\n",
              "    }\n",
              "</style>\n",
              "<table border=\"1\" class=\"dataframe\">\n",
              "  <thead>\n",
              "    <tr style=\"text-align: right;\">\n",
              "      <th></th>\n",
              "      <th>fixed acidity</th>\n",
              "      <th>volatile acidity</th>\n",
              "      <th>citric acid</th>\n",
              "      <th>residual sugar</th>\n",
              "      <th>chlorides</th>\n",
              "      <th>free sulfur dioxide</th>\n",
              "      <th>total sulfur dioxide</th>\n",
              "      <th>density</th>\n",
              "      <th>pH</th>\n",
              "      <th>sulphates</th>\n",
              "      <th>alcohol</th>\n",
              "      <th>quality</th>\n",
              "    </tr>\n",
              "  </thead>\n",
              "  <tbody>\n",
              "    <tr>\n",
              "      <th>0</th>\n",
              "      <td>7.4</td>\n",
              "      <td>0.70</td>\n",
              "      <td>0.00</td>\n",
              "      <td>1.9</td>\n",
              "      <td>0.076</td>\n",
              "      <td>11.0</td>\n",
              "      <td>34.0</td>\n",
              "      <td>0.9978</td>\n",
              "      <td>3.51</td>\n",
              "      <td>0.56</td>\n",
              "      <td>9.4</td>\n",
              "      <td>5</td>\n",
              "    </tr>\n",
              "    <tr>\n",
              "      <th>1</th>\n",
              "      <td>7.8</td>\n",
              "      <td>0.88</td>\n",
              "      <td>0.00</td>\n",
              "      <td>2.6</td>\n",
              "      <td>0.098</td>\n",
              "      <td>25.0</td>\n",
              "      <td>67.0</td>\n",
              "      <td>0.9968</td>\n",
              "      <td>3.20</td>\n",
              "      <td>0.68</td>\n",
              "      <td>9.8</td>\n",
              "      <td>5</td>\n",
              "    </tr>\n",
              "    <tr>\n",
              "      <th>2</th>\n",
              "      <td>7.8</td>\n",
              "      <td>0.76</td>\n",
              "      <td>0.04</td>\n",
              "      <td>2.3</td>\n",
              "      <td>0.092</td>\n",
              "      <td>15.0</td>\n",
              "      <td>54.0</td>\n",
              "      <td>0.9970</td>\n",
              "      <td>3.26</td>\n",
              "      <td>0.65</td>\n",
              "      <td>9.8</td>\n",
              "      <td>5</td>\n",
              "    </tr>\n",
              "    <tr>\n",
              "      <th>3</th>\n",
              "      <td>11.2</td>\n",
              "      <td>0.28</td>\n",
              "      <td>0.56</td>\n",
              "      <td>1.9</td>\n",
              "      <td>0.075</td>\n",
              "      <td>17.0</td>\n",
              "      <td>60.0</td>\n",
              "      <td>0.9980</td>\n",
              "      <td>3.16</td>\n",
              "      <td>0.58</td>\n",
              "      <td>9.8</td>\n",
              "      <td>6</td>\n",
              "    </tr>\n",
              "    <tr>\n",
              "      <th>4</th>\n",
              "      <td>7.4</td>\n",
              "      <td>0.70</td>\n",
              "      <td>0.00</td>\n",
              "      <td>1.9</td>\n",
              "      <td>0.076</td>\n",
              "      <td>11.0</td>\n",
              "      <td>34.0</td>\n",
              "      <td>0.9978</td>\n",
              "      <td>3.51</td>\n",
              "      <td>0.56</td>\n",
              "      <td>9.4</td>\n",
              "      <td>5</td>\n",
              "    </tr>\n",
              "  </tbody>\n",
              "</table>\n",
              "</div>"
            ],
            "text/plain": [
              "   fixed acidity  volatile acidity  citric acid  ...  sulphates  alcohol  quality\n",
              "0            7.4              0.70         0.00  ...       0.56      9.4        5\n",
              "1            7.8              0.88         0.00  ...       0.68      9.8        5\n",
              "2            7.8              0.76         0.04  ...       0.65      9.8        5\n",
              "3           11.2              0.28         0.56  ...       0.58      9.8        6\n",
              "4            7.4              0.70         0.00  ...       0.56      9.4        5\n",
              "\n",
              "[5 rows x 12 columns]"
            ]
          },
          "metadata": {
            "tags": []
          },
          "execution_count": 3
        }
      ]
    },
    {
      "cell_type": "markdown",
      "metadata": {
        "id": "ib2uqoSTDPSI",
        "colab_type": "text"
      },
      "source": [
        "**Treinamento do método**"
      ]
    },
    {
      "cell_type": "code",
      "metadata": {
        "id": "9umHyDrS_n5m",
        "colab_type": "code",
        "outputId": "baa348ba-2985-4f70-df3e-8c74b45fad57",
        "colab": {
          "base_uri": "https://localhost:8080/",
          "height": 69
        }
      },
      "source": [
        "# separando as features do dataset\n",
        "wine_data = []\n",
        "wine_data = wine.drop([\"quality\"], axis=1)\n",
        "# separando o target do dataset\n",
        "wine_target = []\n",
        "wine_target = wine[\"quality\"]\n",
        "# divide os dados em treino e teste\n",
        "X_train, X_test, y_train, y_test = train_test_split(wine_data, wine_target, test_size=0.2, random_state=6)\n",
        "# Criando um objeto de regressão linear\n",
        "linreg = LinearRegression()\n",
        "# Treinamento usando X e y\n",
        "linreg.fit(X_train, y_train)\n",
        "print(\"O conjunto de dados possui {} instancias\\n {} instancias de treino x\\n {} instancias de teste x\".\n",
        "      format(wine_data.shape[0],\n",
        "             X_train.shape[0],X_test.shape[0]))"
      ],
      "execution_count": 0,
      "outputs": [
        {
          "output_type": "stream",
          "text": [
            "O conjunto de dados possui 1599 instancias\n",
            " 1279 instancias de treino x\n",
            " 320 instancias de teste x\n"
          ],
          "name": "stdout"
        }
      ]
    },
    {
      "cell_type": "markdown",
      "metadata": {
        "id": "PPdMlD0EDrnc",
        "colab_type": "text"
      },
      "source": [
        "**Predição com dados de teste**"
      ]
    },
    {
      "cell_type": "code",
      "metadata": {
        "id": "3JP07PnlDx0b",
        "colab_type": "code",
        "outputId": "c76d54c1-e594-44ba-bd22-fdbbf7a6da9f",
        "colab": {
          "base_uri": "https://localhost:8080/",
          "height": 69
        }
      },
      "source": [
        "# Obtendo predição com o primeiro valor dos dados de teste\n",
        "# he oferecida as features de um vinho e esperado a qualidade dele\n",
        "\n",
        "pred = linreg.predict(X_test.values[0].reshape(1,-1))\n",
        "\n",
        "print(\"Para o primeiro valor no array de testes:\")\n",
        "print(\"-> Valor estimado %.2f.\" % pred)\n",
        "print(\"-> Valor real é %.2f.\" % y_test.values[0])\n"
      ],
      "execution_count": 0,
      "outputs": [
        {
          "output_type": "stream",
          "text": [
            "Para o primeiro valor no array de testes:\n",
            "-> Valor estimado 6.57.\n",
            "-> Valor real é 6.00.\n"
          ],
          "name": "stdout"
        }
      ]
    },
    {
      "cell_type": "code",
      "metadata": {
        "id": "SkvSdUWbHJkX",
        "colab_type": "code",
        "outputId": "356c5cb3-7a61-4679-85c1-a1655b635b74",
        "colab": {
          "base_uri": "https://localhost:8080/",
          "height": 1000
        }
      },
      "source": [
        "# sao oferecidas as features de varios vinhos (dados de teste) e esperado a qualidade deles\n",
        "\n",
        "pred_all = linreg.predict(X_test.values)\n",
        "\n",
        "print(\"Usando os dados de teste:\")\n",
        "print(\"\\n\")\n",
        "print(\"-> Valores estimados: \", pred_all)\n",
        "print(\"\\n\")\n",
        "print(\"-> Valores reais são: \", y_test.values)\n"
      ],
      "execution_count": 0,
      "outputs": [
        {
          "output_type": "stream",
          "text": [
            "Usando os dados de teste:\n",
            "\n",
            "\n",
            "-> Valores estimados:  [6.56750484 6.30282214 6.0850561  5.33295214 5.84776693 5.44343127\n",
            " 5.27336812 5.48966779 5.26731159 5.521926   5.68925176 5.53706539\n",
            " 5.27808968 6.11910221 5.07628675 5.00958272 6.17527343 5.04625621\n",
            " 5.02905071 5.13236492 6.47603035 5.52988113 5.66163473 5.05762696\n",
            " 5.93066078 5.49483434 6.10863318 5.50460245 6.18480619 5.35623894\n",
            " 5.6924942  5.57148797 5.48373302 5.88551295 6.40521136 5.48849576\n",
            " 5.34494033 4.88646068 5.11146617 5.71966005 5.05355634 5.04967534\n",
            " 6.52972751 5.94980583 6.20312599 5.89558441 6.14965904 5.75640368\n",
            " 5.53790397 5.90103779 5.71063845 5.69815355 6.0877054  5.84486101\n",
            " 4.78374363 5.67608905 4.97733112 5.72776577 5.06018625 6.2934001\n",
            " 5.71006705 5.40395121 5.60839398 5.65772698 5.87170031 5.93417335\n",
            " 4.85308304 5.14617507 6.60666661 5.00943401 6.30164261 5.42480236\n",
            " 6.58034696 5.46231014 5.58667574 5.90261352 5.66526838 5.12828341\n",
            " 5.29689158 6.38421008 5.88551295 6.49199354 6.43918052 5.34266405\n",
            " 5.31238412 5.04967534 5.35035669 5.32758862 6.20892314 5.23482829\n",
            " 5.24400855 5.69032375 5.60199111 5.3945994  5.87399204 5.78060091\n",
            " 5.58576194 5.70470368 5.27851522 5.62372349 5.18399314 5.96235292\n",
            " 6.73820681 5.4386187  5.06109607 6.02910721 5.4386187  5.80561565\n",
            " 5.25515153 5.48913824 5.00481521 5.37846751 5.90625352 6.4991186\n",
            " 5.2880244  5.20661191 5.46566864 6.36252282 5.94782839 5.66067412\n",
            " 6.04132727 5.21267844 5.81456211 5.69647094 4.98221657 6.02527199\n",
            " 6.25842628 6.09764262 5.60795256 5.3945994  6.10975622 5.76822038\n",
            " 5.36968799 5.88710121 6.42713453 5.28464844 5.62896969 6.4964902\n",
            " 5.88870141 6.08191949 5.05749086 5.35551371 5.69217603 6.04585431\n",
            " 5.47087431 5.83152156 5.47853391 5.5648842  5.195357   5.04625621\n",
            " 5.37000295 6.26555999 4.99162109 5.56621428 5.45886724 6.49324026\n",
            " 6.56556241 5.74711546 5.70872649 5.09706233 5.33590281 5.28463092\n",
            " 6.29932994 5.1640677  6.57943253 6.19610596 5.71535527 5.62914369\n",
            " 5.51882474 6.47342304 5.13191576 5.2380333  6.21636579 5.22727875\n",
            " 5.61116348 6.25279793 5.51617998 5.72683336 6.46781515 5.55932436\n",
            " 6.12513318 5.51905837 5.87612606 5.54793026 4.83071572 4.9944477\n",
            " 5.56344147 5.21785909 5.34822939 5.46687839 6.21207402 5.08023879\n",
            " 4.8037543  5.53706539 5.49676611 5.2456093  5.31649649 5.49056603\n",
            " 5.88710121 5.01130092 4.9039676  5.65151416 5.25739711 5.34840009\n",
            " 5.43640143 5.63480083 5.853985   4.9924214  5.04701078 5.35712732\n",
            " 5.02881295 4.80711855 5.03051406 5.1961409  6.2471992  6.35647225\n",
            " 6.1204425  5.05219378 5.41319575 5.16919797 5.83458447 5.26723202\n",
            " 5.43664653 5.20538783 5.71535527 5.69556451 6.23658729 5.74882313\n",
            " 5.69775669 5.18179451 5.21201298 6.0595428  6.42980756 4.98504159\n",
            " 6.22711976 5.74252348 5.43232296 5.64143343 5.3442601  5.3331702\n",
            " 4.89729908 6.05839785 5.16089851 5.25144327 5.10765695 5.06773499\n",
            " 4.92732682 5.15701521 4.82177975 5.48276242 5.87052408 5.03260953\n",
            " 5.43877771 5.67048906 4.36089286 5.05838073 6.2014534  5.81134541\n",
            " 5.35690057 5.99275996 6.28529517 5.6102562  5.76082751 5.68685168\n",
            " 6.15617638 5.63375893 5.69450751 5.23918355 5.22074457 4.73122083\n",
            " 6.20286143 6.07120421 6.07628943 5.45162543 5.5435983  5.93246034\n",
            " 5.07698689 5.11576363 5.51252263 5.09579851 4.77010761 5.35817015\n",
            " 5.20484437 6.32896977 5.23473079 5.44206923 5.05278316 5.03885406\n",
            " 5.2504385  6.1980012  6.10547575 6.33366441 5.55914559 4.80093589\n",
            " 5.69799044 5.88298325 6.24371569 5.33826922 5.9049648  5.32841029\n",
            " 5.00421994 5.62249559 5.78324329 5.26678678 5.99945284 5.22610254\n",
            " 5.15805753 5.38896271 5.97170944 5.35149522 5.20774595 6.66933068\n",
            " 5.70177358 5.33472862 4.98866633 5.59094979 5.05842078 5.71152029\n",
            " 5.5747829  5.71901091]\n",
            "\n",
            "\n",
            "-> Valores reais são:  [6 6 6 5 6 6 6 6 5 6 5 5 5 6 5 6 7 5 5 5 7 6 6 5 6 5 6 6 5 5 6 6 6 6 7 6 5\n",
            " 5 5 7 5 5 7 5 7 6 6 7 6 5 5 5 6 7 5 5 5 5 5 6 6 5 5 6 6 6 5 6 7 5 7 6 8 5\n",
            " 6 5 6 6 6 7 6 6 7 5 5 5 6 5 5 5 6 6 5 5 5 7 6 5 6 5 6 6 8 5 5 6 5 5 5 6 5\n",
            " 5 6 7 5 5 5 6 6 5 5 4 5 6 5 5 7 6 6 5 6 5 5 7 6 5 5 6 6 7 4 5 6 4 6 6 6 6\n",
            " 6 5 6 6 4 6 5 7 5 6 5 5 5 5 6 5 8 7 6 5 6 7 5 5 6 5 6 6 5 6 6 6 6 5 6 5 5\n",
            " 5 6 5 6 5 7 5 5 5 4 4 6 6 7 4 3 5 5 5 7 5 5 4 5 5 5 5 5 6 6 6 8 5 5 5 6 6\n",
            " 6 5 6 6 7 7 6 6 5 6 7 5 6 6 5 5 5 5 5 7 5 5 6 5 5 5 5 6 5 5 5 6 5 5 6 6 5\n",
            " 7 6 5 5 5 7 6 5 5 4 5 6 6 5 6 6 5 5 5 6 3 4 6 5 6 5 6 5 5 5 6 6 7 6 5 6 5\n",
            " 6 5 6 6 6 4 6 6 7 5 5 5 7 6 6 6 6 5 5 5 5 5 6 6]\n"
          ],
          "name": "stdout"
        }
      ]
    },
    {
      "cell_type": "markdown",
      "metadata": {
        "id": "LMUo75oZJ8rS",
        "colab_type": "text"
      },
      "source": [
        "**Analise de desempenho do algoritmo (inclui o erro quadratico medio)**"
      ]
    },
    {
      "cell_type": "code",
      "metadata": {
        "id": "o5SgQX6dJ0jR",
        "colab_type": "code",
        "outputId": "49bd1dc8-5136-415a-8cf7-87e9e7b53c75",
        "colab": {
          "base_uri": "https://localhost:8080/",
          "height": 121
        }
      },
      "source": [
        "# Imprimindo os coeficientes de cada feature estimados para a regressão da diabetes\n",
        "print('Coeficientes: ', linreg.coef_)\n",
        "# e a constante associada\n",
        "print('Constante: ', linreg.intercept_)\n",
        "\n",
        "# Obtendo previsões para todo o conjunto de testes\n",
        "y_pred = linreg.predict(X_test)\n",
        "\n",
        "# Cálculo do Erro quadrático médio (MSE)\n",
        "print(\"Erro quadrático médio: %.2f\"\n",
        "      % np.mean((y_pred - y_test) ** 2))\n",
        "# Cálculo da variância\n",
        "print('Variância: %.2f' % linreg.score(X_test, y_test))"
      ],
      "execution_count": 0,
      "outputs": [
        {
          "output_type": "stream",
          "text": [
            "Coeficientes:  [ 2.67337113e-02 -1.03510444e+00 -1.03316064e-01  1.92141152e-02\n",
            " -1.95664066e+00  3.43621329e-03 -2.71091167e-03 -2.15271151e+01\n",
            " -2.74017485e-01  9.47888615e-01  2.67049683e-01]\n",
            "Constante:  25.14095770311193\n",
            "Erro quadrático médio: 0.38\n",
            "Variância: 0.39\n"
          ],
          "name": "stdout"
        }
      ]
    },
    {
      "cell_type": "markdown",
      "metadata": {
        "id": "XYhLdR9DUA-L",
        "colab_type": "text"
      },
      "source": [
        "**Analise de correlacao**"
      ]
    },
    {
      "cell_type": "code",
      "metadata": {
        "id": "FzyNc-7ULIKz",
        "colab_type": "code",
        "outputId": "d167b21b-d3b2-4861-9d98-609fea7ba9ae",
        "colab": {
          "base_uri": "https://localhost:8080/",
          "height": 1000
        }
      },
      "source": [
        "'''\n",
        "Mapa que mostra o quanto as features se relacionam com o target. \n",
        "A relacao pode ser de forma positiva, negativa ou nula\n",
        "'''\n",
        "print(\"Mapa de correlacao (heatmap):\")\n",
        "print(\"\\n\")\n",
        "colNames = ['col0 - fixed acidity', 'col1 - volatile acidity', 'col2 - citric acid', 'col3 - residual sugar', 'col4 - chlorides', 'col5 - free sulfur dioxide', 'col6 - total sulfur dioxide', 'col7 - density', 'col8 - pH', 'col9 - sulphates', 'col10 - alcohol', 'target - quality']\n",
        "\n",
        "dfData = pd.DataFrame(X_train)\n",
        "dfTarget = pd.DataFrame(y_train)\n",
        "\n",
        "dfWine = pd.concat([dfData, dfTarget], axis=1)\n",
        "dfWine.columns = colNames\n",
        "\n",
        "plt.figure(figsize=(10,10))\n",
        "sns.heatmap(dfWine.corr(), linewidths=0.1,vmax=1.0, square=True, \n",
        "            linecolor='white', annot=True, cmap='cubehelix')\n",
        "plt.show()\n",
        "\n",
        "#Ordenando as correlações\n",
        "print(\"\\n\")\n",
        "print(\"Ordem decrescente de correlacao: \")\n",
        "print(\"\\n\")\n",
        "dfWine.corr()[\"target - quality\"].sort_values(ascending=False)\n"
      ],
      "execution_count": 0,
      "outputs": [
        {
          "output_type": "stream",
          "text": [
            "Mapa de correlacao (heatmap):\n",
            "\n",
            "\n"
          ],
          "name": "stdout"
        },
        {
          "output_type": "display_data",
          "data": {
            "image/png": "[encoded data removed]",
            "text/plain": [
              "<Figure size 720x720 with 2 Axes>"
            ]
          },
          "metadata": {
            "tags": []
          }
        },
        {
          "output_type": "stream",
          "text": [
            "\n",
            "\n",
            "Ordem decrescente de correlacao: \n",
            "\n",
            "\n"
          ],
          "name": "stdout"
        },
        {
          "output_type": "execute_result",
          "data": {
            "text/plain": [
              "target - quality               1.000000\n",
              "col10 - alcohol                0.476911\n",
              "col9 - sulphates               0.246422\n",
              "col2 - citric acid             0.219573\n",
              "col0 - fixed acidity           0.112463\n",
              "col3 - residual sugar          0.014881\n",
              "col8 - pH                     -0.033764\n",
              "col5 - free sulfur dioxide    -0.044529\n",
              "col4 - chlorides              -0.135594\n",
              "col6 - total sulfur dioxide   -0.167427\n",
              "col7 - density                -0.176390\n",
              "col1 - volatile acidity       -0.377707\n",
              "Name: target - quality, dtype: float64"
            ]
          },
          "metadata": {
            "tags": []
          },
          "execution_count": 8
        }
      ]
    },
    {
      "cell_type": "markdown",
      "metadata": {
        "id": "AYFypBfURpPH",
        "colab_type": "text"
      },
      "source": [
        "# **Aprendizado supervisionado - KNN (K-Nearest Neighbors)**\n",
        "# Classificação dos vinhos analisados "
      ]
    },
    {
      "cell_type": "markdown",
      "metadata": {
        "id": "e4mC1aPqEWED",
        "colab_type": "text"
      },
      "source": [
        "**Gerar o target para classificação**"
      ]
    },
    {
      "cell_type": "code",
      "metadata": {
        "id": "kVUDldzOR2wf",
        "colab_type": "code",
        "outputId": "f1f3f503-24db-4760-b607-0dad75b873a4",
        "colab": {
          "base_uri": "https://localhost:8080/",
          "height": 364
        }
      },
      "source": [
        "'''\n",
        "Classes de vinhos (separadas por qualidade):\n",
        "\n",
        "0 - ruins\n",
        "1 - bons\n",
        "'''\n",
        "# Gera um novo target, que a divisao da qualidade em classes (bom e ruim)\n",
        "wine_target_class = (wine_target > 5).astype(int)\n",
        "\n",
        "print(\"Features:\")\n",
        "print(wine_data.head())\n",
        "print(\"\\n\")\n",
        "print(\"Target (classes de qualidade):\")\n",
        "print(wine_target_class.head())\n",
        "print(\"\\n\")"
      ],
      "execution_count": 0,
      "outputs": [
        {
          "output_type": "stream",
          "text": [
            "Features:\n",
            "   fixed acidity  volatile acidity  citric acid  ...    pH  sulphates  alcohol\n",
            "0            7.4              0.70         0.00  ...  3.51       0.56      9.4\n",
            "1            7.8              0.88         0.00  ...  3.20       0.68      9.8\n",
            "2            7.8              0.76         0.04  ...  3.26       0.65      9.8\n",
            "3           11.2              0.28         0.56  ...  3.16       0.58      9.8\n",
            "4            7.4              0.70         0.00  ...  3.51       0.56      9.4\n",
            "\n",
            "[5 rows x 11 columns]\n",
            "\n",
            "\n",
            "Target (classes de qualidade):\n",
            "0    0\n",
            "1    0\n",
            "2    0\n",
            "3    1\n",
            "4    0\n",
            "Name: quality, dtype: int64\n",
            "\n",
            "\n"
          ],
          "name": "stdout"
        }
      ]
    },
    {
      "cell_type": "markdown",
      "metadata": {
        "id": "QClPQNu6EgO-",
        "colab_type": "text"
      },
      "source": [
        "**Separa os dados de teste e treino**"
      ]
    },
    {
      "cell_type": "code",
      "metadata": {
        "id": "0oqSR7gkD8Lb",
        "colab_type": "code",
        "colab": {}
      },
      "source": [
        "X = wine_data\n",
        "y = wine_target_class\n",
        "\n",
        "X_train, X_test, y_train, y_test = train_test_split(X,y,test_size=0.2,random_state=4)"
      ],
      "execution_count": 0,
      "outputs": []
    },
    {
      "cell_type": "markdown",
      "metadata": {
        "id": "CI5iO4s2ErjM",
        "colab_type": "text"
      },
      "source": [
        "**Instanciando o classificador KNN**"
      ]
    },
    {
      "cell_type": "code",
      "metadata": {
        "id": "QfDZ8CR6E2C_",
        "colab_type": "code",
        "colab": {}
      },
      "source": [
        "k = 25\n",
        "knn = neighbors.KNeighborsClassifier(n_neighbors=k)"
      ],
      "execution_count": 0,
      "outputs": []
    },
    {
      "cell_type": "markdown",
      "metadata": {
        "id": "HF3yvWFQFI8b",
        "colab_type": "text"
      },
      "source": [
        "**Treinamento**"
      ]
    },
    {
      "cell_type": "code",
      "metadata": {
        "id": "UhXtLAH6FOZl",
        "colab_type": "code",
        "outputId": "f5ebdb5e-c8d4-4f3c-e7db-c4525d4c510c",
        "colab": {
          "base_uri": "https://localhost:8080/",
          "height": 69
        }
      },
      "source": [
        "knn.fit(X_train, y_train)"
      ],
      "execution_count": 0,
      "outputs": [
        {
          "output_type": "execute_result",
          "data": {
            "text/plain": [
              "KNeighborsClassifier(algorithm='auto', leaf_size=30, metric='minkowski',\n",
              "                     metric_params=None, n_jobs=None, n_neighbors=25, p=2,\n",
              "                     weights='uniform')"
            ]
          },
          "metadata": {
            "tags": []
          },
          "execution_count": 76
        }
      ]
    },
    {
      "cell_type": "markdown",
      "metadata": {
        "id": "eCg3xYsXFmsF",
        "colab_type": "text"
      },
      "source": [
        "**Predicao**"
      ]
    },
    {
      "cell_type": "code",
      "metadata": {
        "id": "oxZM8XkzFZn7",
        "colab_type": "code",
        "outputId": "ce198eae-761a-443b-f6d8-119467b4d3fa",
        "colab": {
          "base_uri": "https://localhost:8080/",
          "height": 868
        }
      },
      "source": [
        "pred_y = knn.predict(X_test)\n",
        "\n",
        "# Observe a predição com o resultado real\n",
        "print(\"Predicao: \", pred_y)\n",
        "print(\"\\n\")\n",
        "print(\"Valores reais: \", y_test.values)\n",
        "print(\"\\n\")\n",
        "print(pred_y == y_test.values)"
      ],
      "execution_count": 0,
      "outputs": [
        {
          "output_type": "stream",
          "text": [
            "Predicao:  [0 1 1 1 0 1 0 0 0 1 0 1 0 1 1 1 0 1 0 0 1 0 0 1 0 0 1 0 0 1 1 1 1 0 1 0 1\n",
            " 1 1 1 0 1 1 1 0 1 0 1 0 0 1 1 0 0 0 0 1 1 1 1 1 1 1 0 1 1 1 1 0 0 1 0 1 0\n",
            " 0 0 0 0 0 1 1 0 0 0 0 0 1 0 1 0 1 0 0 1 1 1 0 0 1 1 0 1 1 0 0 1 1 0 0 1 0\n",
            " 0 0 0 1 1 1 1 1 0 1 0 0 1 1 1 1 0 1 0 0 1 1 0 1 0 0 0 1 0 1 0 1 0 1 0 0 0\n",
            " 1 0 0 1 0 1 1 0 1 1 0 1 1 1 1 0 0 1 1 1 0 1 0 1 0 0 1 0 0 1 1 0 0 1 1 0 1\n",
            " 1 0 1 1 0 1 1 0 1 1 1 1 1 1 1 1 1 0 1 1 0 0 0 1 0 1 1 0 1 0 1 0 1 1 1 1 1\n",
            " 0 0 1 0 0 1 1 0 0 1 0 1 0 0 1 0 0 0 0 1 1 1 0 1 0 1 0 0 0 1 0 1 1 0 0 1 1\n",
            " 1 1 0 1 1 1 0 0 0 0 0 1 1 1 1 1 0 1 0 1 0 0 0 0 0 0 0 1 1 0 1 0 1 1 1 0 1\n",
            " 1 1 1 0 1 1 0 1 1 0 0 1 1 0 1 0 1 1 0 1 1 1 1 1]\n",
            "\n",
            "\n",
            "Valores reais:  [0 0 1 1 0 0 0 0 0 0 1 1 0 0 1 1 0 1 1 0 0 0 1 1 1 1 1 1 1 1 1 1 1 1 1 0 1\n",
            " 1 1 0 0 1 1 1 1 1 1 1 1 0 1 0 0 0 0 0 0 1 1 1 1 1 1 0 1 1 0 1 0 0 1 1 1 1\n",
            " 1 0 0 0 0 1 1 0 0 0 0 0 1 0 1 0 0 1 0 0 1 0 0 1 0 0 0 1 1 0 1 0 0 0 0 1 0\n",
            " 0 0 1 1 1 1 1 0 0 1 1 0 0 1 1 1 1 1 0 0 0 0 0 1 0 0 0 1 1 1 1 0 0 1 0 0 1\n",
            " 1 0 1 0 1 1 1 1 0 0 0 1 1 0 1 0 0 1 1 0 0 1 0 0 0 0 0 0 1 1 0 1 1 0 1 0 1\n",
            " 0 0 1 1 0 1 0 0 1 1 1 1 1 1 1 1 1 0 1 1 0 0 1 1 0 0 0 1 0 0 1 0 1 1 0 1 1\n",
            " 1 0 0 0 0 1 0 0 0 1 1 0 1 0 0 0 0 1 0 0 1 1 0 0 0 1 0 1 0 0 0 0 1 1 0 0 1\n",
            " 1 0 0 0 0 1 0 1 1 0 0 1 1 1 1 0 0 1 1 1 1 0 0 0 0 0 0 1 1 0 1 0 1 1 1 0 1\n",
            " 0 1 0 1 1 0 0 1 1 0 0 1 0 0 1 0 1 1 0 0 1 1 0 1]\n",
            "\n",
            "\n",
            "[ True False  True  True  True False  True  True  True False False  True\n",
            "  True False  True  True  True  True False  True False  True False  True\n",
            " False False  True False False  True  True  True  True False  True  True\n",
            "  True  True  True False  True  True  True  True False  True False  True\n",
            " False  True  True False  True  True  True  True False  True  True  True\n",
            "  True  True  True  True  True  True False  True  True  True  True False\n",
            "  True False False  True  True  True  True  True  True  True  True  True\n",
            "  True  True  True  True  True  True False False  True False  True False\n",
            "  True False False False  True  True  True  True False False False  True\n",
            "  True  True  True  True  True False  True  True  True  True False  True\n",
            "  True False  True False  True  True  True False  True  True  True False\n",
            " False  True  True  True  True  True  True False  True False False  True\n",
            "  True  True  True False  True  True False False False  True  True False\n",
            " False False  True  True  True False  True  True  True  True  True False\n",
            "  True  True  True False  True  True False  True False  True False False\n",
            " False False  True  True  True False  True  True  True  True  True False\n",
            "  True  True  True  True  True  True  True  True  True  True  True  True\n",
            "  True  True  True False  True  True False False False False  True  True\n",
            "  True  True  True False  True  True False  True False  True  True  True\n",
            " False  True  True  True False False False  True False  True  True False\n",
            "  True False  True  True  True False  True  True  True False  True False\n",
            "  True False  True False  True False  True  True False  True False False\n",
            "  True  True False False  True  True  True  True  True  True False  True\n",
            "  True False  True False  True  True  True  True  True  True  True  True\n",
            "  True  True  True  True  True  True  True  True False  True False False\n",
            "  True False  True  True  True  True  True  True False  True  True  True\n",
            "  True  True  True False  True  True False  True]\n"
          ],
          "name": "stdout"
        }
      ]
    },
    {
      "cell_type": "markdown",
      "metadata": {
        "id": "OQkIW95fONYC",
        "colab_type": "text"
      },
      "source": [
        "**Análise da acurácia**"
      ]
    },
    {
      "cell_type": "code",
      "metadata": {
        "id": "jRQBdsntOf6B",
        "colab_type": "code",
        "outputId": "5e67aa21-867a-4d4d-e6bd-04331da9d09b",
        "colab": {
          "base_uri": "https://localhost:8080/",
          "height": 34
        }
      },
      "source": [
        "print(\"Acuracia do metodo: \", knn.score(X_test, y_test))"
      ],
      "execution_count": 0,
      "outputs": [
        {
          "output_type": "stream",
          "text": [
            "Acuracia do metodo:  0.696875\n"
          ],
          "name": "stdout"
        }
      ]
    },
    {
      "cell_type": "markdown",
      "metadata": {
        "id": "4jqJqKRoP1hh",
        "colab_type": "text"
      },
      "source": [
        "**Tentativa de determinar qual número k de vizinhos nos dá os melhores resultados para esse problema**"
      ]
    },
    {
      "cell_type": "code",
      "metadata": {
        "id": "rMwM9k3DPFuK",
        "colab_type": "code",
        "outputId": "d26e878f-d263-42b2-b3e8-cacda7ef8511",
        "colab": {
          "base_uri": "https://localhost:8080/",
          "height": 69
        }
      },
      "source": [
        "from sklearn.model_selection import cross_val_score\n",
        "\n",
        "knn = neighbors.KNeighborsClassifier(n_neighbors=25)\n",
        "scores = cross_val_score(knn, X, y, cv=10, scoring='accuracy')\n",
        "print(scores)\n",
        "print(scores.mean())"
      ],
      "execution_count": 0,
      "outputs": [
        {
          "output_type": "stream",
          "text": [
            "[0.575      0.8375     0.7375     0.58125    0.68125    0.725\n",
            " 0.625      0.61875    0.65625    0.59119497]\n",
            "0.6628694968553459\n"
          ],
          "name": "stdout"
        }
      ]
    },
    {
      "cell_type": "code",
      "metadata": {
        "id": "Jvpk8-03QObB",
        "colab_type": "code",
        "outputId": "51d80a35-1737-41ce-b996-c562d25eebfc",
        "colab": {
          "base_uri": "https://localhost:8080/",
          "height": 279
        }
      },
      "source": [
        "# Criamos uma lista com todos os valores de 1 a 29 (inclusivo)\n",
        "k_opt = list(range(1, 30))\n",
        "scores = []\n",
        "# Para cada valor de k, adicionamos sua acurácia média a uma lista\n",
        "for k in k_opt:\n",
        "    knn = neighbors.KNeighborsClassifier(n_neighbors=k)\n",
        "    scores.append(cross_val_score(knn, X, y, cv=10, scoring='accuracy').mean())\n",
        "\n",
        "# e visualizamos\n",
        "plt.plot(k_opt, scores)\n",
        "plt.xlabel('Número K de vizinhos')\n",
        "plt.ylabel('Acurácia média')\n",
        "plt.show()"
      ],
      "execution_count": 0,
      "outputs": [
        {
          "output_type": "display_data",
          "data": {
            "image/png": "[encoded data removed]",
            "text/plain": [
              "<Figure size 432x288 with 1 Axes>"
            ]
          },
          "metadata": {
            "tags": []
          }
        }
      ]
    },
    {
      "cell_type": "code",
      "metadata": {
        "id": "CW7ElrsUQZjD",
        "colab_type": "code",
        "outputId": "8021a605-71eb-4ba7-eb25-5d6cf863e6de",
        "colab": {
          "base_uri": "https://localhost:8080/",
          "height": 34
        }
      },
      "source": [
        "from sklearn.model_selection import GridSearchCV\n",
        "\n",
        "# Vamos testar novamenente todos esses valores de k\n",
        "k_opt = list(range(1, 30))\n",
        "# Mas variando também a opção 'weights', que nos diz se devemos considerar\n",
        "# a distância dos k vizinhos mais próximos como pesos numa média ponderada ou não\n",
        "weight_opt = ['uniform', 'distance']\n",
        "\n",
        "# inserimos essas opções num dicionário com o seguinte formato\n",
        "param_grid = dict(n_neighbors=k_opt, weights=weight_opt)\n",
        "print(param_grid)"
      ],
      "execution_count": 0,
      "outputs": [
        {
          "output_type": "stream",
          "text": [
            "{'n_neighbors': [1, 2, 3, 4, 5, 6, 7, 8, 9, 10, 11, 12, 13, 14, 15, 16, 17, 18, 19, 20, 21, 22, 23, 24, 25, 26, 27, 28, 29], 'weights': ['uniform', 'distance']}\n"
          ],
          "name": "stdout"
        }
      ]
    },
    {
      "cell_type": "code",
      "metadata": {
        "id": "i_oYLyh-QiMx",
        "colab_type": "code",
        "outputId": "856146d4-2ca8-4c29-ca64-dee24cfa47d2",
        "colab": {
          "base_uri": "https://localhost:8080/",
          "height": 34
        }
      },
      "source": [
        "# Instanciamos nosso estimador (os parâmetros não importam)\n",
        "knn = neighbors.KNeighborsClassifier()\n",
        "\n",
        "# Criamos o GridSearchCV, passando ao menos \n",
        "# o estimador e o dicionário de parâmetros\n",
        "grid = GridSearchCV(knn, param_grid, cv=10, scoring='accuracy')\n",
        "\n",
        "# Agora passamos nossos dados, e aqui ocorre todo\n",
        "# e treinamento e teste da grid\n",
        "grid.fit(X, y)\n",
        "\n",
        "# Podemos então obter uma configuração de\n",
        "# parâmetros que obteve score ótimo:\n",
        "print(grid.best_params_)"
      ],
      "execution_count": 0,
      "outputs": [
        {
          "output_type": "stream",
          "text": [
            "{'n_neighbors': 25, 'weights': 'uniform'}\n"
          ],
          "name": "stdout"
        }
      ]
    }
  ]
}